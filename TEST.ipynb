{
 "cells": [
  {
   "cell_type": "code",
   "execution_count": 4,
   "id": "530e28f8",
   "metadata": {},
   "outputs": [],
   "source": [
    "import numpy as np\n",
    "import tensorflow as tf\n",
    "import keras\n",
    "from tensorflow.keras.optimizers import SGD\n",
    "import matplotlib.pyplot as plt\n",
    "plt.style.use('fivethirtyeight')\n",
    "import pandas as pd\n",
    "from sklearn.preprocessing import MinMaxScaler\n",
    "from keras.models import Sequential\n",
    "from keras.layers import Dense, LSTM, Dropout, GRU, Bidirectional\n",
    "from tensorflow.keras.optimizers import SGD\n",
    "import seaborn as sns\n",
    "import math\n",
    "import os\n",
    "from sklearn.metrics import mean_squared_error\n",
    "# from keras.optimizers import SGD\n"
   ]
  },
  {
   "cell_type": "code",
   "execution_count": 5,
   "id": "5c2c4847",
   "metadata": {},
   "outputs": [
    {
     "name": "stdout",
     "output_type": "stream",
     "text": [
      "(9000, 12)\n",
      "(8991, 12)\n",
      "(9, 12)\n",
      "(8991, 3)\n",
      "(9, 3)\n"
     ]
    }
   ],
   "source": [
    "df = pd.read_csv(r\"C:\\Users\\Manshi Mishra\\Downloads\\FeaturesNoIndex.csv\")\n",
    "dfAc = df.drop(['Action'],axis = 1)\n",
    "\n",
    "import keras\n",
    "from tensorflow.keras.utils import to_categorical\n",
    "\n",
    "import keras\n",
    "from tensorflow.keras.utils import to_categorical\n",
    "X = df.drop(['Action'],axis=1)\n",
    "print(X.shape)\n",
    "y = df.Action\n",
    "Y = to_categorical(y, num_classes = 3)\n",
    "\n",
    "# Splitting the dataset into the Training set and Test set\n",
    "from sklearn.model_selection import train_test_split\n",
    "X_train, X_test, y_train, y_test = train_test_split(X, Y, test_size = 0.001, random_state = 2)\n",
    "\n",
    "print(X_train.shape)\n",
    "print(X_test.shape)\n",
    "print(y_train.shape)\n",
    "print(y_test.shape)\n",
    "\n",
    "# Feature Scaling because yes we don't want one independent variable dominating the other and it makes computations easy\n",
    "from sklearn.preprocessing import StandardScaler\n",
    "sc = StandardScaler()\n",
    "X_train = sc.fit_transform(X_train)\n",
    "X_test = sc.transform(X_test)\n"
   ]
  },
  {
   "cell_type": "code",
   "execution_count": 9,
   "id": "5150a80e",
   "metadata": {},
   "outputs": [
    {
     "name": "stdout",
     "output_type": "stream",
     "text": [
      "1/1 [==============================] - 0s 147ms/step - loss: 0.0800 - accuracy: 1.0000\n",
      "Test score: 0.08004648983478546\n",
      "Test accuracy: 1.0\n"
     ]
    }
   ],
   "source": [
    "new_model = tf.keras.models.load_model('Prosthetic_Model__Final_H5')\n",
    "preds = new_model.predict(X_test)\n",
    "preds = preds > 0.6\n",
    "score, acc = new_model.evaluate(X_test, y_test,\n",
    "                            batch_size=20)\n",
    "print('Test score:', score)\n",
    "print('Test accuracy:', acc)"
   ]
  },
  {
   "cell_type": "code",
   "execution_count": 10,
   "id": "655c4368",
   "metadata": {},
   "outputs": [
    {
     "name": "stdout",
     "output_type": "stream",
     "text": [
      "[[1.4544731e-04 9.9972874e-01 1.2589637e-04]]\n"
     ]
    }
   ],
   "source": [
    "pred = new_model.predict(np.array(X_test[0],ndmin=2))\n",
    "print(pred)"
   ]
  },
  {
   "cell_type": "code",
   "execution_count": 12,
   "id": "3f8a9a35",
   "metadata": {},
   "outputs": [
    {
     "name": "stdout",
     "output_type": "stream",
     "text": [
      "[[1.5743652e-14 1.0000000e+00 1.2996104e-14]]\n",
      "1\n"
     ]
    }
   ],
   "source": [
    "pred = new_model.predict(np.expand_dims(X_test[8], axis=0))\n",
    "print(pred)\n",
    "print(np.argmax(pred))"
   ]
  },
  {
   "cell_type": "code",
   "execution_count": 32,
   "id": "c15c109a",
   "metadata": {},
   "outputs": [
    {
     "ename": "NameError",
     "evalue": "name 'new_model' is not defined",
     "output_type": "error",
     "traceback": [
      "\u001b[1;31m---------------------------------------------------------------------------\u001b[0m",
      "\u001b[1;31mNameError\u001b[0m                                 Traceback (most recent call last)",
      "\u001b[1;32mC:\\Users\\MANSHI~1\\AppData\\Local\\Temp/ipykernel_5088/2306980727.py\u001b[0m in \u001b[0;36m<module>\u001b[1;34m\u001b[0m\n\u001b[0;32m      2\u001b[0m \u001b[1;33m\u001b[0m\u001b[0m\n\u001b[0;32m      3\u001b[0m \u001b[1;32mfor\u001b[0m \u001b[0mi\u001b[0m \u001b[1;32min\u001b[0m \u001b[0mrange\u001b[0m\u001b[1;33m(\u001b[0m\u001b[1;36m9\u001b[0m\u001b[1;33m)\u001b[0m\u001b[1;33m:\u001b[0m\u001b[1;33m\u001b[0m\u001b[1;33m\u001b[0m\u001b[0m\n\u001b[1;32m----> 4\u001b[1;33m     \u001b[0mpred\u001b[0m \u001b[1;33m=\u001b[0m \u001b[0mnew_model\u001b[0m\u001b[1;33m.\u001b[0m\u001b[0mpredict\u001b[0m\u001b[1;33m(\u001b[0m\u001b[0mnp\u001b[0m\u001b[1;33m.\u001b[0m\u001b[0mexpand_dims\u001b[0m\u001b[1;33m(\u001b[0m\u001b[0mX_test\u001b[0m\u001b[1;33m[\u001b[0m\u001b[0mi\u001b[0m\u001b[1;33m]\u001b[0m\u001b[1;33m,\u001b[0m \u001b[0maxis\u001b[0m\u001b[1;33m=\u001b[0m\u001b[1;36m0\u001b[0m\u001b[1;33m)\u001b[0m\u001b[1;33m)\u001b[0m\u001b[1;33m\u001b[0m\u001b[1;33m\u001b[0m\u001b[0m\n\u001b[0m\u001b[0;32m      5\u001b[0m     \u001b[0mprint\u001b[0m\u001b[1;33m(\u001b[0m\u001b[0mclassE\u001b[0m\u001b[1;33m[\u001b[0m\u001b[0mnp\u001b[0m\u001b[1;33m.\u001b[0m\u001b[0margmax\u001b[0m\u001b[1;33m(\u001b[0m\u001b[0mpred\u001b[0m\u001b[1;33m)\u001b[0m\u001b[1;33m]\u001b[0m\u001b[1;33m)\u001b[0m\u001b[1;33m\u001b[0m\u001b[1;33m\u001b[0m\u001b[0m\n\u001b[0;32m      6\u001b[0m     \u001b[1;32mif\u001b[0m \u001b[1;33m(\u001b[0m\u001b[0mclassE\u001b[0m\u001b[1;33m[\u001b[0m\u001b[0mnp\u001b[0m\u001b[1;33m.\u001b[0m\u001b[0margmax\u001b[0m\u001b[1;33m(\u001b[0m\u001b[0mpred\u001b[0m\u001b[1;33m)\u001b[0m\u001b[1;33m]\u001b[0m \u001b[1;33m==\u001b[0m \u001b[1;34m\"E0\"\u001b[0m\u001b[1;33m)\u001b[0m\u001b[1;33m:\u001b[0m\u001b[1;33m\u001b[0m\u001b[1;33m\u001b[0m\u001b[0m\n",
      "\u001b[1;31mNameError\u001b[0m: name 'new_model' is not defined"
     ]
    }
   ],
   "source": [
    "classE = ['E0','E1','E2']\n",
    "\n",
    "for i in range(9):\n",
    "    pred = new_model.predict(np.expand_dims(X_test[i], axis=0))\n",
    "    print(classE[np.argmax(pred)])\n",
    "    if (classE[np.argmax(pred)] == \"E0\"):\n",
    "        print(\"0\")\n",
    "    elif(classE[np.argmax(pred)] == \"E1\"):\n",
    "        print(\"1\")\n",
    "    elif(classE[np.argmax(pred)] == \"E2\"):\n",
    "        print(\"2\")\n",
    "    print()"
   ]
  },
  {
   "cell_type": "code",
   "execution_count": 33,
   "id": "dc9c4063",
   "metadata": {},
   "outputs": [
    {
     "name": "stdout",
     "output_type": "stream",
     "text": [
      "Requirement already satisfied: gpiozero in c:\\users\\manshi mishra\\anaconda3\\lib\\site-packages (1.6.2)\n",
      "Requirement already satisfied: colorzero in c:\\users\\manshi mishra\\anaconda3\\lib\\site-packages (from gpiozero) (2.0)\n",
      "Requirement already satisfied: setuptools in c:\\users\\manshi mishra\\anaconda3\\lib\\site-packages (from colorzero->gpiozero) (58.0.4)\n",
      "Note: you may need to restart the kernel to use updated packages.\n"
     ]
    }
   ],
   "source": [
    "pip install gpiozero"
   ]
  },
  {
   "cell_type": "code",
   "execution_count": 34,
   "id": "361b5eba",
   "metadata": {},
   "outputs": [
    {
     "name": "stdout",
     "output_type": "stream",
     "text": [
      "Collecting rpi.gpio\n",
      "  Using cached RPi.GPIO-0.7.1.tar.gz (29 kB)\n",
      "Building wheels for collected packages: rpi.gpio\n",
      "  Building wheel for rpi.gpio (setup.py): started\n",
      "  Building wheel for rpi.gpio (setup.py): finished with status 'error'\n",
      "  Running setup.py clean for rpi.gpio\n",
      "Failed to build rpi.gpio\n",
      "Installing collected packages: rpi.gpio\n",
      "    Running setup.py install for rpi.gpio: started\n",
      "    Running setup.py install for rpi.gpio: finished with status 'error'\n",
      "Note: you may need to restart the kernel to use updated packages.\n"
     ]
    },
    {
     "name": "stderr",
     "output_type": "stream",
     "text": [
      "  ERROR: Command errored out with exit status 1:\n",
      "   command: 'C:\\Users\\Manshi Mishra\\anaconda3\\python.exe' -u -c 'import io, os, sys, setuptools, tokenize; sys.argv[0] = '\"'\"'C:\\\\Users\\\\Manshi Mishra\\\\AppData\\\\Local\\\\Temp\\\\pip-install-jb5ngbm4\\\\rpi-gpio_cc7d863af95f47df942d803a43120079\\\\setup.py'\"'\"'; __file__='\"'\"'C:\\\\Users\\\\Manshi Mishra\\\\AppData\\\\Local\\\\Temp\\\\pip-install-jb5ngbm4\\\\rpi-gpio_cc7d863af95f47df942d803a43120079\\\\setup.py'\"'\"';f = getattr(tokenize, '\"'\"'open'\"'\"', open)(__file__) if os.path.exists(__file__) else io.StringIO('\"'\"'from setuptools import setup; setup()'\"'\"');code = f.read().replace('\"'\"'\\r\\n'\"'\"', '\"'\"'\\n'\"'\"');f.close();exec(compile(code, __file__, '\"'\"'exec'\"'\"'))' bdist_wheel -d 'C:\\Users\\Manshi Mishra\\AppData\\Local\\Temp\\pip-wheel-ygq1xyg8'\n",
      "       cwd: C:\\Users\\Manshi Mishra\\AppData\\Local\\Temp\\pip-install-jb5ngbm4\\rpi-gpio_cc7d863af95f47df942d803a43120079\\\n",
      "  Complete output (12 lines):\n",
      "  running bdist_wheel\n",
      "  running build\n",
      "  running build_py\n",
      "  creating build\n",
      "  creating build\\lib.win-amd64-3.9\n",
      "  creating build\\lib.win-amd64-3.9\\RPi\n",
      "  copying RPi\\__init__.py -> build\\lib.win-amd64-3.9\\RPi\n",
      "  creating build\\lib.win-amd64-3.9\\RPi\\GPIO\n",
      "  copying RPi\\GPIO\\__init__.py -> build\\lib.win-amd64-3.9\\RPi\\GPIO\n",
      "  running build_ext\n",
      "  building 'RPi._GPIO' extension\n",
      "  error: Microsoft Visual C++ 14.0 or greater is required. Get it with \"Microsoft C++ Build Tools\": https://visualstudio.microsoft.com/visual-cpp-build-tools/\n",
      "  ----------------------------------------\n",
      "  ERROR: Failed building wheel for rpi.gpio\n",
      "    ERROR: Command errored out with exit status 1:\n",
      "     command: 'C:\\Users\\Manshi Mishra\\anaconda3\\python.exe' -u -c 'import io, os, sys, setuptools, tokenize; sys.argv[0] = '\"'\"'C:\\\\Users\\\\Manshi Mishra\\\\AppData\\\\Local\\\\Temp\\\\pip-install-jb5ngbm4\\\\rpi-gpio_cc7d863af95f47df942d803a43120079\\\\setup.py'\"'\"'; __file__='\"'\"'C:\\\\Users\\\\Manshi Mishra\\\\AppData\\\\Local\\\\Temp\\\\pip-install-jb5ngbm4\\\\rpi-gpio_cc7d863af95f47df942d803a43120079\\\\setup.py'\"'\"';f = getattr(tokenize, '\"'\"'open'\"'\"', open)(__file__) if os.path.exists(__file__) else io.StringIO('\"'\"'from setuptools import setup; setup()'\"'\"');code = f.read().replace('\"'\"'\\r\\n'\"'\"', '\"'\"'\\n'\"'\"');f.close();exec(compile(code, __file__, '\"'\"'exec'\"'\"'))' install --record 'C:\\Users\\Manshi Mishra\\AppData\\Local\\Temp\\pip-record-l2ya2_35\\install-record.txt' --single-version-externally-managed --compile --install-headers 'C:\\Users\\Manshi Mishra\\anaconda3\\Include\\rpi.gpio'\n",
      "         cwd: C:\\Users\\Manshi Mishra\\AppData\\Local\\Temp\\pip-install-jb5ngbm4\\rpi-gpio_cc7d863af95f47df942d803a43120079\\\n",
      "    Complete output (12 lines):\n",
      "    running install\n",
      "    running build\n",
      "    running build_py\n",
      "    creating build\n",
      "    creating build\\lib.win-amd64-3.9\n",
      "    creating build\\lib.win-amd64-3.9\\RPi\n",
      "    copying RPi\\__init__.py -> build\\lib.win-amd64-3.9\\RPi\n",
      "    creating build\\lib.win-amd64-3.9\\RPi\\GPIO\n",
      "    copying RPi\\GPIO\\__init__.py -> build\\lib.win-amd64-3.9\\RPi\\GPIO\n",
      "    running build_ext\n",
      "    building 'RPi._GPIO' extension\n",
      "    error: Microsoft Visual C++ 14.0 or greater is required. Get it with \"Microsoft C++ Build Tools\": https://visualstudio.microsoft.com/visual-cpp-build-tools/\n",
      "    ----------------------------------------\n",
      "ERROR: Command errored out with exit status 1: 'C:\\Users\\Manshi Mishra\\anaconda3\\python.exe' -u -c 'import io, os, sys, setuptools, tokenize; sys.argv[0] = '\"'\"'C:\\\\Users\\\\Manshi Mishra\\\\AppData\\\\Local\\\\Temp\\\\pip-install-jb5ngbm4\\\\rpi-gpio_cc7d863af95f47df942d803a43120079\\\\setup.py'\"'\"'; __file__='\"'\"'C:\\\\Users\\\\Manshi Mishra\\\\AppData\\\\Local\\\\Temp\\\\pip-install-jb5ngbm4\\\\rpi-gpio_cc7d863af95f47df942d803a43120079\\\\setup.py'\"'\"';f = getattr(tokenize, '\"'\"'open'\"'\"', open)(__file__) if os.path.exists(__file__) else io.StringIO('\"'\"'from setuptools import setup; setup()'\"'\"');code = f.read().replace('\"'\"'\\r\\n'\"'\"', '\"'\"'\\n'\"'\"');f.close();exec(compile(code, __file__, '\"'\"'exec'\"'\"'))' install --record 'C:\\Users\\Manshi Mishra\\AppData\\Local\\Temp\\pip-record-l2ya2_35\\install-record.txt' --single-version-externally-managed --compile --install-headers 'C:\\Users\\Manshi Mishra\\anaconda3\\Include\\rpi.gpio' Check the logs for full command output.\n"
     ]
    }
   ],
   "source": [
    "pip install rpi.gpio"
   ]
  },
  {
   "cell_type": "code",
   "execution_count": 35,
   "id": "b0463b93",
   "metadata": {},
   "outputs": [
    {
     "ename": "ModuleNotFoundError",
     "evalue": "No module named 'RPi'",
     "output_type": "error",
     "traceback": [
      "\u001b[1;31m---------------------------------------------------------------------------\u001b[0m",
      "\u001b[1;31mModuleNotFoundError\u001b[0m                       Traceback (most recent call last)",
      "\u001b[1;32mC:\\Users\\MANSHI~1\\AppData\\Local\\Temp/ipykernel_5088/1192052216.py\u001b[0m in \u001b[0;36m<module>\u001b[1;34m\u001b[0m\n\u001b[0;32m      1\u001b[0m \u001b[1;32mfrom\u001b[0m \u001b[0mgpiozero\u001b[0m \u001b[1;32mimport\u001b[0m \u001b[0mServo\u001b[0m\u001b[1;33m\u001b[0m\u001b[1;33m\u001b[0m\u001b[0m\n\u001b[0;32m      2\u001b[0m \u001b[1;32mfrom\u001b[0m \u001b[0mtime\u001b[0m \u001b[1;32mimport\u001b[0m \u001b[0msleep\u001b[0m\u001b[1;33m\u001b[0m\u001b[1;33m\u001b[0m\u001b[0m\n\u001b[1;32m----> 3\u001b[1;33m \u001b[1;32mfrom\u001b[0m \u001b[0mRPi\u001b[0m \u001b[1;32mimport\u001b[0m \u001b[0mGPIO\u001b[0m\u001b[1;33m\u001b[0m\u001b[1;33m\u001b[0m\u001b[0m\n\u001b[0m",
      "\u001b[1;31mModuleNotFoundError\u001b[0m: No module named 'RPi'"
     ]
    }
   ],
   "source": [
    "from gpiozero import Servo\n",
    "from time import sleep\n",
    "from RPi import GPIO "
   ]
  },
  {
   "cell_type": "code",
   "execution_count": null,
   "id": "72ebaac8",
   "metadata": {},
   "outputs": [],
   "source": [
    "servo1 = Servo(14) #thumb\n",
    "servo2 = Servo(25) #index\n",
    "servo3 = Servo(16) #middle\n",
    "servo4 = Servo(20) #ring\n",
    "servo5 = Servo(7) #pinky\n",
    "\n",
    "def SetServo1(angle):\n",
    "    duty = angle / 18 + 2\n",
    "    GPIO.output(14, True)\n",
    "    pwm.ChangeDutyCycle(duty)\n",
    "    sleep(1)\n",
    "    GPIO.output(14, False)\n",
    "    pwm.ChangeDutyCycle(0)\n",
    "    \n",
    "def SetServo2(angle):\n",
    "    duty = angle / 18 + 2\n",
    "    GPIO.output(25, True)\n",
    "    pwm.ChangeDutyCycle(duty)\n",
    "    sleep(1)\n",
    "    GPIO.output(25, False)\n",
    "    pwm.ChangeDutyCycle(0)\n",
    "    \n",
    "def SetServo3(angle):\n",
    "    duty = angle / 18 + 2\n",
    "    GPIO.output(16, True)\n",
    "    pwm.ChangeDutyCycle(duty)\n",
    "    sleep(1)\n",
    "    GPIO.output(16, False)\n",
    "    pwm.ChangeDutyCycle(0)\n",
    "    \n",
    "def SetServo4(angle):\n",
    "    duty = angle / 18 + 2\n",
    "    GPIO.output(20, True)\n",
    "    pwm.ChangeDutyCycle(duty)\n",
    "    sleep(1)\n",
    "    GPIO.output(20, False)\n",
    "    pwm.ChangeDutyCycle(0)\n",
    "\n",
    "def SetServo5(angle):\n",
    "    duty = angle / 18 + 2\n",
    "    GPIO.output(7, True)\n",
    "    pwm.ChangeDutyCycle(duty)\n",
    "    sleep(1)\n",
    "    GPIO.output(7, False)\n",
    "    pwm.ChangeDutyCycle(0)\n",
    "    \n",
    "if (classE[np.argmax(pred)] == \"E0\"): #for thumbsup\n",
    "    SetServo1(0)\n",
    "    SetServo2(180)\n",
    "    SetServo3(180)\n",
    "    SetServo4(180)\n",
    "    SetServo5(180)\n",
    "elif(classE[np.argmax(pred)] == \"E1\"): #pointing finger\n",
    "    SetServo1(180)\n",
    "    SetServo2(0)\n",
    "    SetServo3(90)\n",
    "    SetServo4(90)\n",
    "    SetServo5(90)\n",
    "elif(classE[np.argmax(pred)] == \"E2\"):\n",
    "    SetServo1(90)\n",
    "    SetServo2(90)\n",
    "    SetServo3(90)\n",
    "    SetServo4(90)\n",
    "    SetServo5(90)"
   ]
  },
  {
   "cell_type": "code",
   "execution_count": null,
   "id": "bc730ccf",
   "metadata": {},
   "outputs": [],
   "source": []
  },
  {
   "cell_type": "code",
   "execution_count": null,
   "id": "6e9e05f6",
   "metadata": {},
   "outputs": [],
   "source": []
  }
 ],
 "metadata": {
  "kernelspec": {
   "display_name": "Python 3 (ipykernel)",
   "language": "python",
   "name": "python3"
  },
  "language_info": {
   "codemirror_mode": {
    "name": "ipython",
    "version": 3
   },
   "file_extension": ".py",
   "mimetype": "text/x-python",
   "name": "python",
   "nbconvert_exporter": "python",
   "pygments_lexer": "ipython3",
   "version": "3.9.7"
  }
 },
 "nbformat": 4,
 "nbformat_minor": 5
}
